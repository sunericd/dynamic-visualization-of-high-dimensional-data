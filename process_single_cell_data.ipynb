{
 "cells": [
  {
   "cell_type": "markdown",
   "id": "f7d9bf2c",
   "metadata": {},
   "source": [
    "# Python notebook for processing single-cell data for downstream analysis"
   ]
  },
  {
   "cell_type": "code",
   "execution_count": 1,
   "id": "04b2fc58",
   "metadata": {},
   "outputs": [],
   "source": [
    "import numpy as np\n",
    "import pandas as pd\n",
    "import scanpy as sc\n",
    "from sklearn.decomposition import PCA\n",
    "from sklearn import preprocessing"
   ]
  },
  {
   "cell_type": "markdown",
   "id": "b92a81b9",
   "metadata": {},
   "source": [
    "### SVZ aging clock"
   ]
  },
  {
   "cell_type": "code",
   "execution_count": 2,
   "id": "00cd57f5",
   "metadata": {},
   "outputs": [],
   "source": [
    "# read in counts data from other project\n",
    "data = pd.read_csv(\"sc_data/mouse_svz_aging_clock/svz_data.csv\")\n",
    "meta = pd.read_csv(\"sc_data/mouse_svz_aging_clock/svz_meta.csv\")"
   ]
  },
  {
   "cell_type": "code",
   "execution_count": 65,
   "id": "772e293f",
   "metadata": {},
   "outputs": [],
   "source": [
    "# reformat, get top PCs and use that as the ground truth\n",
    "PCmat = PCA(n_components=50).fit_transform(data.values)\n",
    "\n",
    "# get associated metadata (celltypes)\n",
    "label = meta[\"Celltype.LowRes\"].values\n",
    "\n",
    "SVZ_X = PCmat\n",
    "SVZ_y = label\n",
    "SVZ_age = meta[\"Age\"].values\n",
    "\n",
    "# # save X and Y\n",
    "# np.savetxt(\"SVZ_X.txt\", SVZ_X)\n",
    "# np.savetxt(\"SVZ_y.txt\", SVZ_y, fmt=\"%s\")\n",
    "# np.savetxt(\"SVZ_age.txt\", SVZ_age, fmt=\"%s\")"
   ]
  },
  {
   "cell_type": "code",
   "execution_count": 6,
   "id": "e0644c57",
   "metadata": {},
   "outputs": [],
   "source": [
    "# SAVE DIFFERENTLY SIZED N\n",
    "\n",
    "for size in [100, 200, 300, 400, 500, 600, 700, 800, 900]:\n",
    "    PCmat = PCA(n_components=50).fit_transform(data.values[:size,:])\n",
    "    # get associated metadata (celltypes)\n",
    "    label = meta[\"Celltype.LowRes\"].values[:size]\n",
    "    SVZ_X = PCmat\n",
    "    SVZ_y = label\n",
    "    SVZ_age = meta[\"Age\"].values[:size]\n",
    "    np.savetxt(\"SVZ_X_n\"+str(size)+\".txt\", SVZ_X)\n",
    "    np.savetxt(\"SVZ_y_n\"+str(size)+\".txt\", SVZ_y, fmt=\"%s\")\n",
    "    np.savetxt(\"SVZ_age_n\"+str(size)+\".txt\", SVZ_age, fmt=\"%s\")"
   ]
  },
  {
   "cell_type": "markdown",
   "id": "5af30b49",
   "metadata": {},
   "source": [
    "### MERFISH mouse MOp"
   ]
  },
  {
   "cell_type": "code",
   "execution_count": 4,
   "id": "3d29793f",
   "metadata": {},
   "outputs": [
    {
     "name": "stdout",
     "output_type": "stream",
     "text": [
      "(280327, 254)\n"
     ]
    }
   ],
   "source": [
    "# # save as csv\n",
    "# merfish_data = sc.read_h5ad(\"sc_data/mouse_merfish_MOp/counts.h5ad\")\n",
    "# np.savetxt(\"sc_data/mouse_merfish_MOp/counts.csv\", merfish_data.X)\n",
    "# print(merfish_data.X.shape)"
   ]
  },
  {
   "cell_type": "code",
   "execution_count": 2,
   "id": "cfff0ce7",
   "metadata": {},
   "outputs": [],
   "source": [
    "merfish_data = sc.read_h5ad(\"sc_data/mouse_merfish_MOp/counts.h5ad\")\n",
    "sc.pp.normalize_total(merfish_data)\n",
    "sc.pp.log1p(merfish_data)"
   ]
  },
  {
   "cell_type": "code",
   "execution_count": 3,
   "id": "1ac85f0d",
   "metadata": {},
   "outputs": [
    {
     "data": {
      "text/plain": [
       "(280327, 254)"
      ]
     },
     "execution_count": 3,
     "metadata": {},
     "output_type": "execute_result"
    }
   ],
   "source": [
    "merfish_data.shape"
   ]
  },
  {
   "cell_type": "code",
   "execution_count": 4,
   "id": "ebe766cb",
   "metadata": {},
   "outputs": [],
   "source": [
    "merfish_metadata = pd.read_csv(\"sc_data/mouse_merfish_MOp/cell_metadata.csv\")"
   ]
  },
  {
   "cell_type": "code",
   "execution_count": 6,
   "id": "dd975870",
   "metadata": {},
   "outputs": [
    {
     "name": "stdout",
     "output_type": "stream",
     "text": [
      "18516\n",
      "28195\n",
      "23898\n",
      "33884\n",
      "31899\n",
      "25133\n",
      "13864\n",
      "22221\n",
      "18881\n",
      "20616\n",
      "20429\n",
      "22791\n"
     ]
    }
   ],
   "source": [
    "for sid in np.unique(merfish_metadata['sample_id']):\n",
    "    print(len(merfish_metadata[merfish_metadata['sample_id'] == sid]['sample_id']))"
   ]
  },
  {
   "cell_type": "code",
   "execution_count": 37,
   "id": "7437908b",
   "metadata": {},
   "outputs": [],
   "source": [
    "# randomly sample 1000\n",
    "rand_idxs = np.random.choice(np.arange(0,merfish_data.shape[0]), 1000, replace=False)"
   ]
  },
  {
   "cell_type": "code",
   "execution_count": 38,
   "id": "52b382fd",
   "metadata": {},
   "outputs": [],
   "source": [
    "df_mer = pd.DataFrame(merfish_data.X[rand_idxs,:], index=merfish_data.obs_names[rand_idxs], columns=merfish_data.var_names)\n",
    "#df_mer.to_csv(\"merfish_X.csv\")\n",
    "\n",
    "sub_merfish_metadata = merfish_metadata.iloc[rand_idxs]\n",
    "#sub_merfish_metadata.to_csv(\"merfish_Y.csv\")"
   ]
  },
  {
   "cell_type": "markdown",
   "id": "f3f73923",
   "metadata": {},
   "source": [
    "#### Extracting replicates..."
   ]
  },
  {
   "cell_type": "code",
   "execution_count": 2,
   "id": "21549095",
   "metadata": {},
   "outputs": [],
   "source": [
    "merfish_data = sc.read_h5ad(\"sc_data/mouse_merfish_MOp/counts.h5ad\")\n",
    "sc.pp.normalize_total(merfish_data)\n",
    "sc.pp.log1p(merfish_data)\n",
    "\n",
    "merfish_metadata = pd.read_csv(\"sc_data/mouse_merfish_MOp/cell_metadata.csv\")"
   ]
  },
  {
   "cell_type": "code",
   "execution_count": 3,
   "id": "0d38886a",
   "metadata": {},
   "outputs": [
    {
     "data": {
      "text/plain": [
       "(280327, 254)"
      ]
     },
     "execution_count": 3,
     "metadata": {},
     "output_type": "execute_result"
    }
   ],
   "source": [
    "merfish_data.shape"
   ]
  },
  {
   "cell_type": "code",
   "execution_count": 4,
   "id": "22e760e4",
   "metadata": {},
   "outputs": [],
   "source": [
    "for sample_id in np.unique(merfish_metadata['sample_id']): # 6 unique sample_id\n",
    "    sample_idxs = merfish_metadata.index[merfish_metadata['sample_id'] == sample_id].tolist() # get idxs of sample\n",
    "    #rand_idxs = np.random.choice(sample_idxs, 1000, replace=False) # subsample 1000 cells from that sample\n",
    "    rand_idxs = np.random.choice(sample_idxs, 3000, replace=False) # subsample 3000 cells from that sample\n",
    "    \n",
    "    df_mer = pd.DataFrame(merfish_data.X[rand_idxs,:], index=merfish_data.obs_names[rand_idxs], columns=merfish_data.var_names)\n",
    "    #df_mer.to_csv(\"merfish_\"+sample_id+\"_X.csv\")\n",
    "    df_mer.to_csv(\"merfish_\"+sample_id+\"_X_3k.csv\")\n",
    "\n",
    "    sub_merfish_metadata = merfish_metadata.iloc[rand_idxs]\n",
    "    #sub_merfish_metadata.to_csv(\"merfish_\"+sample_id+\"_Y.csv\")\n",
    "    sub_merfish_metadata.to_csv(\"merfish_\"+sample_id+\"_Y_3k.csv\")"
   ]
  },
  {
   "cell_type": "markdown",
   "id": "c5bf330b",
   "metadata": {},
   "source": [
    "### mESC differentiation"
   ]
  },
  {
   "cell_type": "code",
   "execution_count": 3,
   "id": "8a00c52d",
   "metadata": {},
   "outputs": [],
   "source": [
    "data = pd.read_csv(\"sc_data/mESC-differentiation_hayashi/GSE98664_tpm_sailfish_mergedGTF_RamDA_mESC_differentiation_time_course.txt\", sep=\"\\t\", index_col=0)"
   ]
  },
  {
   "cell_type": "code",
   "execution_count": 4,
   "id": "52c740a2",
   "metadata": {},
   "outputs": [
    {
     "data": {
      "text/plain": [
       "(157717, 421)"
      ]
     },
     "execution_count": 4,
     "metadata": {},
     "output_type": "execute_result"
    }
   ],
   "source": [
    "data.shape"
   ]
  },
  {
   "cell_type": "code",
   "execution_count": 67,
   "id": "b9665367",
   "metadata": {},
   "outputs": [],
   "source": [
    "data = data.T"
   ]
  },
  {
   "cell_type": "code",
   "execution_count": 71,
   "id": "6e5f1e13",
   "metadata": {},
   "outputs": [],
   "source": [
    "# reformat, get top PCs and use that as the ground truth\n",
    "PCmat = PCA(n_components=50).fit_transform(data.values)\n",
    "\n",
    "# get associated metadata (celltypes)\n",
    "label = data.index\n",
    "\n",
    "mESC_X = PCmat\n",
    "mESC_y = label\n",
    "\n",
    "# # save X and Y\n",
    "# np.savetxt(\"mESC_X.txt\", mESC_X)\n",
    "# np.savetxt(\"mESC_y.txt\", mESC_y, fmt=\"%s\")"
   ]
  },
  {
   "cell_type": "markdown",
   "id": "ba78b835",
   "metadata": {},
   "source": [
    "### E-MTAB-2805 cell-cycle"
   ]
  },
  {
   "cell_type": "code",
   "execution_count": 2,
   "id": "19ecf269",
   "metadata": {},
   "outputs": [],
   "source": [
    "data1 = pd.read_csv(\"sc_data/E-MTAB-2805/G1_singlecells_counts.txt\", sep=\"\\t\", index_col=2).drop([\"EnsemblGeneID\",\"EnsemblTranscriptID\",\"GeneLength\"], axis = 'columns').T\n",
    "data2 = pd.read_csv(\"sc_data/E-MTAB-2805/G2M_singlecells_counts.txt\", sep=\"\\t\", index_col=2).drop([\"EnsemblGeneID\",\"EnsemblTranscriptID\",\"GeneLength\"], axis = 'columns').T\n",
    "data3 = pd.read_csv(\"sc_data/E-MTAB-2805/S_singlecells_counts.txt\", sep=\"\\t\", index_col=2).drop([\"EnsemblGeneID\",\"EnsemblTranscriptID\",\"GeneLength\"], axis = 'columns').T"
   ]
  },
  {
   "cell_type": "code",
   "execution_count": 35,
   "id": "d9eb9d6d",
   "metadata": {},
   "outputs": [],
   "source": [
    "data1 = data1.loc[:, data1.columns.notnull()]\n",
    "data2 = data2.loc[:, data2.columns.notnull()]\n",
    "data3 = data3.loc[:, data3.columns.notnull()]"
   ]
  },
  {
   "cell_type": "code",
   "execution_count": 36,
   "id": "abd6a632",
   "metadata": {},
   "outputs": [],
   "source": [
    "labels1 = [\"G1\"]*data1.shape[0]\n",
    "labels2 = [\"G2M\"]*data2.shape[0]\n",
    "labels3 = [\"S\"]*data3.shape[0]"
   ]
  },
  {
   "cell_type": "code",
   "execution_count": 37,
   "id": "8dfda1c3",
   "metadata": {},
   "outputs": [],
   "source": [
    "data = np.vstack((data1,data2,data3))\n",
    "labels = np.concatenate((labels1,labels2,labels3))"
   ]
  },
  {
   "cell_type": "code",
   "execution_count": 38,
   "id": "31404193",
   "metadata": {},
   "outputs": [],
   "source": [
    "data = preprocessing.normalize(data, norm=\"l1\")\n",
    "data = np.log1p(data)"
   ]
  },
  {
   "cell_type": "code",
   "execution_count": 40,
   "id": "7705181f",
   "metadata": {},
   "outputs": [],
   "source": [
    "# reformat, get top PCs and use that as the ground truth\n",
    "PCmat = PCA(n_components=50).fit_transform(data)\n",
    "\n",
    "EMTAB_X = PCmat\n",
    "EMTAB_y = labels"
   ]
  },
  {
   "cell_type": "code",
   "execution_count": 41,
   "id": "1f9316e1",
   "metadata": {},
   "outputs": [],
   "source": [
    "# np.savetxt(\"EMTAB_X.txt\", EMTAB_X)\n",
    "# np.savetxt(\"EMTAB_y.txt\", EMTAB_y, fmt=\"%s\")"
   ]
  },
  {
   "cell_type": "code",
   "execution_count": null,
   "id": "3f0d2e04",
   "metadata": {},
   "outputs": [],
   "source": []
  }
 ],
 "metadata": {
  "kernelspec": {
   "display_name": "MultiCellAgingClock",
   "language": "python",
   "name": "multicellagingclock"
  },
  "language_info": {
   "codemirror_mode": {
    "name": "ipython",
    "version": 3
   },
   "file_extension": ".py",
   "mimetype": "text/x-python",
   "name": "python",
   "nbconvert_exporter": "python",
   "pygments_lexer": "ipython3",
   "version": "3.6.13"
  }
 },
 "nbformat": 4,
 "nbformat_minor": 5
}
